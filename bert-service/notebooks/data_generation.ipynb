{
 "cells": [
  {
   "metadata": {
    "ExecuteTime": {
     "end_time": "2025-04-17T20:53:06.989162Z",
     "start_time": "2025-04-17T20:53:06.978568Z"
    }
   },
   "cell_type": "code",
   "source": [
    "import json\n",
    "import random"
   ],
   "id": "7e5471b75de0ab25",
   "outputs": [],
   "execution_count": 13
  },
  {
   "cell_type": "code",
   "id": "initial_id",
   "metadata": {
    "collapsed": true,
    "ExecuteTime": {
     "end_time": "2025-04-17T20:53:07.004528Z",
     "start_time": "2025-04-17T20:53:06.993161Z"
    }
   },
   "source": [
    "SHAPES = {\n",
    "    \"CUBE\": {\n",
    "        \"templates\": [\n",
    "            {\n",
    "                \"description\": \"A cube with {value} {unit} sides.\",\n",
    "                \"tags\": [\"O\", \"U-SHAPE\", \"O\", \"B-VALUE\", \"I-UNIT\", \"L-DIMENSION\"]\n",
    "            },\n",
    "            {\n",
    "                \"description\": \"Create a cube with {value} {unit} width, {value} {unit} height, {value} {unit} depth.\",\n",
    "                \"tags\": [\"O\", \"O\", \"U-SHAPE\", \"O\", \"B-VALUE\", \"I-UNIT\", \"L-DIMENSION\", \"B-VALUE\", \"I-UNIT\", \"L-DIMENSION\", \"B-VALUE\", \"I-UNIT\", \"L-DIMENSION\"]\n",
    "            }\n",
    "        ]\n",
    "    },\n",
    "    \"GEAR\": {\n",
    "        \"templates\": [\n",
    "            {\n",
    "                \"description\": \"A helical gear with {teeth} teeth with {value} cm radius\",\n",
    "                \"tags\": [\"O\", \"B-SHAPE_TYPE\", \"L-SHAPE\", \"O\", \"B-TEETH-COUNT\", \"L-TEETH\", \"O\", \"B-VALUE\", \"I-UNIT\", \"L-DIMENSION\"]\n",
    "            },\n",
    "        ]\n",
    "    }\n",
    "}"
   ],
   "outputs": [],
   "execution_count": 14
  },
  {
   "metadata": {
    "ExecuteTime": {
     "end_time": "2025-04-17T20:53:07.035467Z",
     "start_time": "2025-04-17T20:53:07.021449Z"
    }
   },
   "cell_type": "code",
   "source": [
    "def generate_dimensions(unit):\n",
    "    if unit in [\"mm\", \"cm\"]:\n",
    "        value = round(random.uniform(0.5, 1000), random.choice([0, 1, 2]))\n",
    "    elif unit == \"m\":\n",
    "        value = round(random.uniform(0.01, 10), random.choice([2, 3]))\n",
    "    elif unit == \"in\":\n",
    "        value = round(random.uniform(0.1, 48), random.choice([1, 2, 3]))\n",
    "    elif unit == \"ft\":\n",
    "        value = round(random.uniform(0.1, 10), random.choice([1, 2]))\n",
    "    else:\n",
    "        raise ValueError(\"Invalid unit\")\n",
    "\n",
    "    return value"
   ],
   "id": "319231460e959578",
   "outputs": [],
   "execution_count": 15
  },
  {
   "metadata": {
    "ExecuteTime": {
     "end_time": "2025-04-17T20:53:07.066156Z",
     "start_time": "2025-04-17T20:53:07.052009Z"
    }
   },
   "cell_type": "code",
   "source": [
    "def generate_description(shape_name):\n",
    "    units = [\"mm\", \"cm\", \"in\", \"ft\"]\n",
    "    unit = random.choice(units)\n",
    "\n",
    "    value = generate_dimensions(unit)\n",
    "\n",
    "    templates = SHAPES[shape_name][\"templates\"]\n",
    "    template = random.choice(templates)\n",
    "\n",
    "    template_description = template[\"description\"]\n",
    "    template_tags = template[\"tags\"]\n",
    "\n",
    "    description = template_description.format(value=value, unit=unit)\n",
    "    return {\n",
    "        \"text\": description, \"labels\": template_tags\n",
    "    }\n",
    "\n",
    "def generate_gear_description(shape_name):\n",
    "    units = [\"mm\", \"cm\", \"in\", \"ft\"]\n",
    "    unit = random.choice(units)\n",
    "\n",
    "    value = generate_dimensions(unit)\n",
    "\n",
    "    templates = SHAPES[shape_name][\"templates\"]\n",
    "    template = random.choice(templates)\n",
    "\n",
    "    teeth_count = random.randint(6, 12)\n",
    "\n",
    "    description = template[\"description\"]\n",
    "    tags = template[\"tags\"]\n",
    "\n",
    "    description = description.format(value=value, unit=unit, teeth=teeth_count)\n",
    "    return {\n",
    "        \"text\": description, \"labels\": tags\n",
    "    }"
   ],
   "id": "3dc9fe543d2e2fff",
   "outputs": [],
   "execution_count": 16
  },
  {
   "metadata": {
    "ExecuteTime": {
     "end_time": "2025-04-17T20:53:07.097391Z",
     "start_time": "2025-04-17T20:53:07.084193Z"
    }
   },
   "cell_type": "code",
   "source": [
    "def generate_dataset(n=1000):\n",
    "    dataset = []\n",
    "    for i in range(n):\n",
    "        if i < n / 2:\n",
    "            dataset.append(generate_description(\"CUBE\"))\n",
    "        else:\n",
    "            dataset.append(generate_gear_description(\"GEAR\"))\n",
    "    return dataset"
   ],
   "id": "fb989f7eee7c72fd",
   "outputs": [],
   "execution_count": 17
  },
  {
   "metadata": {
    "ExecuteTime": {
     "end_time": "2025-04-17T20:53:07.144470Z",
     "start_time": "2025-04-17T20:53:07.115203Z"
    }
   },
   "cell_type": "code",
   "source": [
    "data = generate_dataset()\n",
    "with open(\"dataset.json\", \"w\") as f:\n",
    "    json.dump(data, f, indent=4)"
   ],
   "id": "55216565ee7046d4",
   "outputs": [],
   "execution_count": 18
  }
 ],
 "metadata": {
  "kernelspec": {
   "display_name": "Python 3",
   "language": "python",
   "name": "python3"
  },
  "language_info": {
   "codemirror_mode": {
    "name": "ipython",
    "version": 2
   },
   "file_extension": ".py",
   "mimetype": "text/x-python",
   "name": "python",
   "nbconvert_exporter": "python",
   "pygments_lexer": "ipython2",
   "version": "2.7.6"
  }
 },
 "nbformat": 4,
 "nbformat_minor": 5
}
